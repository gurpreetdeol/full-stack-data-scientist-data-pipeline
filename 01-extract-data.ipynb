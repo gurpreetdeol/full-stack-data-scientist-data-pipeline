{
 "cells": [
  {
   "metadata": {
    "ExecuteTime": {
     "end_time": "2024-06-19T17:55:17.785349Z",
     "start_time": "2024-06-19T17:55:17.782740Z"
    }
   },
   "cell_type": "code",
   "source": [
    "import requests\n",
    "import json\n",
    "import polars as pl\n",
    "from my_secret_key import my_key\n",
    "\n",
    "from youtube_transcript_api import YouTubeTranscriptApi"
   ],
   "id": "initial_id",
   "outputs": [],
   "execution_count": 28
  },
  {
   "metadata": {
    "ExecuteTime": {
     "end_time": "2024-06-19T17:55:18.205564Z",
     "start_time": "2024-06-19T17:55:18.200896Z"
    }
   },
   "cell_type": "code",
   "source": [
    "# from apiclient.discovery import build\n",
    "# \n",
    "# # Arguments that need to passed to the build function\n",
    "# DEVELOPER_KEY = my_key()\n",
    "# YOUTUBE_API_SERVICE_NAME = \"youtube\"\n",
    "# YOUTUBE_API_VERSION = \"v3\"\n",
    "# \n",
    "# print(\"API key is: \" + DEVELOPER_KEY)\n",
    "# \n",
    "# # creating Youtube Resource Object\n",
    "# youtube_object = build(YOUTUBE_API_SERVICE_NAME, YOUTUBE_API_VERSION,\n",
    "#                        developerKey = DEVELOPER_KEY)\n",
    "# \n",
    "# \n",
    "# def youtube_search_keyword(query, max_results):\n",
    "#     \n",
    "#     # calling the search.list method to\n",
    "#     # retrieve youtube search results\n",
    "#     search_keyword = youtube_object.search().list(q = query, part = \"id, snippet\",\n",
    "#                                                   maxResults = max_results).execute()\n",
    "#     \n",
    "#     # extracting the results from search response\n",
    "#     results = search_keyword.get(\"items\", [])\n",
    "#     \n",
    "#     # empty list to store video, \n",
    "#     # channel, playlist metadata\n",
    "#     videos = []\n",
    "#     playlists = []\n",
    "#     channels = []\n",
    "#     \n",
    "#     # extracting required info from each result object\n",
    "#     for result in results:\n",
    "#         # video result object\n",
    "#         if result['id']['kind'] == \"youtube# video\":\n",
    "#             videos.append(\"% s (% s) (% s) (% s)\" % (result[\"snippet\"][\"title\"],\n",
    "#                                                      result[\"id\"][\"videoId\"], result['snippet']['description'],\n",
    "#                                                      result['snippet']['thumbnails']['default']['url']))\n",
    "#         \n",
    "#         # playlist result object\n",
    "#         elif result['id']['kind'] == \"youtube# playlist\":\n",
    "#             playlists.append(\"% s (% s) (% s) (% s)\" % (result[\"snippet\"][\"title\"],\n",
    "#                                                         result[\"id\"][\"playlistId\"],\n",
    "#                                                         result['snippet']['description'],\n",
    "#                                                         result['snippet']['thumbnails']['default']['url']))\n",
    "#         \n",
    "#         # channel result object\n",
    "#         elif result['id']['kind'] == \"youtube# channel\":\n",
    "#             channels.append(\"% s (% s) (% s) (% s)\" % (result[\"snippet\"][\"title\"],\n",
    "#                                                        result[\"id\"][\"channelId\"],\n",
    "#                                                        result['snippet']['description'],\n",
    "#                                                        result['snippet']['thumbnails']['default']['url']))\n",
    "#     \n",
    "#     print(\"Videos:\\n\", \"\\n\".join(videos), \"\\n\")\n",
    "#     print(\"Channels:\\n\", \"\\n\".join(channels), \"\\n\")\n",
    "#     print(\"Playlists:\\n\", \"\\n\".join(playlists), \"\\n\")\n",
    "# \n",
    "# if __name__ == \"__main__\":\n",
    "#     youtube_search_keyword('Geeksforgeeks', max_results = 10)\n",
    "# \t\n"
   ],
   "id": "6def9b5803cf8642",
   "outputs": [],
   "execution_count": 29
  },
  {
   "metadata": {
    "ExecuteTime": {
     "end_time": "2024-06-19T17:57:03.044325Z",
     "start_time": "2024-06-19T17:57:03.041580Z"
    }
   },
   "cell_type": "code",
   "source": [
    "# define channel ID\n",
    "channel_id = 'UCa9gErQ9AE5jT2DZLjXBIdA' # 'UC6vl6g6Yo1jh24pduTsMSMg' #\n",
    "\n",
    "# define url for API\n",
    "url = 'https://www.googleapis.com/youtube/v3/search'\n",
    "\n",
    "# initialize page token\n",
    "page_token = None\n",
    "\n",
    "# intialize list to store video data\n",
    "video_record_list = []"
   ],
   "id": "a5974a87cdeeb5bc",
   "outputs": [],
   "execution_count": 37
  },
  {
   "metadata": {
    "ExecuteTime": {
     "end_time": "2024-06-19T17:57:03.859446Z",
     "start_time": "2024-06-19T17:57:03.855019Z"
    }
   },
   "cell_type": "code",
   "source": [
    "# extract video data from single search result page\n",
    "\n",
    "def getVideoRecords(response: requests.models.Response) -> list:\n",
    "    \"\"\"\n",
    "        Function to extract YouTube video data from GET request response\n",
    "    \"\"\"\n",
    "    \n",
    "    # initialize list to store video data from page results\n",
    "    video_record_list = []\n",
    "    for raw_item in json.loads(response.text)['items']:\n",
    "        \n",
    "        # only execute for youtube videos\n",
    "        if raw_item['id']['kind'] != \"youtube#video\":\n",
    "            continue\n",
    "        \n",
    "        # extract relevant data\n",
    "        video_record = {}\n",
    "        video_record['video_id'] = raw_item['id']['videoId']\n",
    "        video_record['datetime'] = raw_item['snippet']['publishedAt']\n",
    "        video_record['title'] = raw_item['snippet']['title']\n",
    "        \n",
    "        # append record to list\n",
    "        video_record_list.append(video_record)\n",
    "    \n",
    "    return video_record_list"
   ],
   "id": "ff12f248cee02db0",
   "outputs": [],
   "execution_count": 38
  },
  {
   "metadata": {
    "ExecuteTime": {
     "end_time": "2024-06-19T17:57:05.711708Z",
     "start_time": "2024-06-19T17:57:04.863942Z"
    }
   },
   "cell_type": "code",
   "source": [
    "# extract video data across multiple search result pages\n",
    "\n",
    "while page_token != 0:\n",
    "    # define parameters for API call\n",
    "    params = {'key': my_key(), 'channelId': channel_id,\n",
    "              'part': [\"snippet\",\"id\"], 'order': \"date\",\n",
    "              'maxResults':50, 'pageToken': page_token}\n",
    "    # make get request\n",
    "    response = requests.get(url, params=params)\n",
    "    \n",
    "    # append video data from page results to list\n",
    "    video_record_list += getVideoRecords(response)\n",
    "    \n",
    "    try:\n",
    "        # grab next page token\n",
    "        page_token = json.loads(response.text)['nextPageToken']\n",
    "    except:\n",
    "        # if no next page token kill while loop\n",
    "        page_token = 0"
   ],
   "id": "a31930d1ba2e6ef3",
   "outputs": [],
   "execution_count": 39
  },
  {
   "metadata": {
    "ExecuteTime": {
     "end_time": "2024-06-19T17:57:07.758506Z",
     "start_time": "2024-06-19T17:57:07.755097Z"
    }
   },
   "cell_type": "code",
   "source": [
    "# store data in polars dataframe\n",
    "df = pl.DataFrame(video_record_list)\n",
    "print(df.head())"
   ],
   "id": "9de7e4657a4e9bf3",
   "outputs": [
    {
     "name": "stdout",
     "output_type": "stream",
     "text": [
      "shape: (5, 3)\n",
      "┌─────────────┬──────────────────────┬─────────────────────────────────┐\n",
      "│ video_id    ┆ datetime             ┆ title                           │\n",
      "│ ---         ┆ ---                  ┆ ---                             │\n",
      "│ str         ┆ str                  ┆ str                             │\n",
      "╞═════════════╪══════════════════════╪═════════════════════════════════╡\n",
      "│ X8ZR6yFdg1Q ┆ 2024-06-17T14:12:45Z ┆ AI Explained in 60 Seconds #ai  │\n",
      "│ sxvyBxLVvKs ┆ 2024-06-13T23:44:59Z ┆ The #1 Skill That Holds (Most)… │\n",
      "│ XQWhJsXu0sY ┆ 2024-06-07T18:32:43Z ┆ What Nature Can Teach Us About… │\n",
      "│ wJ794jLP2Tw ┆ 2024-05-30T15:41:30Z ┆ Automating Data Pipelines with… │\n",
      "│ pJ_nCklQ65w ┆ 2024-05-18T15:24:22Z ┆ How to Deploy ML Solutions wit… │\n",
      "└─────────────┴──────────────────────┴─────────────────────────────────┘\n"
     ]
    }
   ],
   "execution_count": 40
  },
  {
   "metadata": {
    "ExecuteTime": {
     "end_time": "2024-06-19T17:57:09.382534Z",
     "start_time": "2024-06-19T17:57:09.379561Z"
    }
   },
   "cell_type": "code",
   "source": [
    "def extract_text(transcript: list) -> str:\n",
    "    \"\"\"\n",
    "        Function to extract text from transcript dictionary\n",
    "    \"\"\"\n",
    "    \n",
    "    text_list = [transcript[i]['text'] for i in range(len(transcript))]\n",
    "    return ' '.join(text_list)"
   ],
   "id": "d2ec676021d61df",
   "outputs": [],
   "execution_count": 41
  },
  {
   "metadata": {
    "ExecuteTime": {
     "end_time": "2024-06-19T17:58:21.268724Z",
     "start_time": "2024-06-19T17:57:10.330069Z"
    }
   },
   "cell_type": "code",
   "source": [
    "# intialize list to store video captions\n",
    "transcript_text_list = []\n",
    "\n",
    "# loop through each row of dataframe\n",
    "for i in range(len(df)):\n",
    "    \n",
    "    # try to extract captions\n",
    "    try:\n",
    "        # get transcript\n",
    "        transcript = YouTubeTranscriptApi.get_transcript(df['video_id'][i])\n",
    "        # extract text transcript\n",
    "        transcript_text = extract_text(transcript)\n",
    "    # if not captions available set as n/a\n",
    "    except:\n",
    "        transcript_text = \"n/a\"\n",
    "    \n",
    "    # append transcript text to list\n",
    "    transcript_text_list.append(transcript_text)"
   ],
   "id": "f537e6f8034c3481",
   "outputs": [],
   "execution_count": 42
  },
  {
   "metadata": {
    "ExecuteTime": {
     "end_time": "2024-06-19T17:58:21.274789Z",
     "start_time": "2024-06-19T17:58:21.270445Z"
    }
   },
   "cell_type": "code",
   "source": [
    "# add transcripts to dataframe\n",
    "df = df.with_columns(pl.Series(name=\"transcript\", values=transcript_text_list))\n",
    "print(df.head())"
   ],
   "id": "21a1e5561ae8ba20",
   "outputs": [
    {
     "name": "stdout",
     "output_type": "stream",
     "text": [
      "shape: (5, 4)\n",
      "┌─────────────┬──────────────────────┬──────────────────────────────┬──────────────────────────────┐\n",
      "│ video_id    ┆ datetime             ┆ title                        ┆ transcript                   │\n",
      "│ ---         ┆ ---                  ┆ ---                          ┆ ---                          │\n",
      "│ str         ┆ str                  ┆ str                          ┆ str                          │\n",
      "╞═════════════╪══════════════════════╪══════════════════════════════╪══════════════════════════════╡\n",
      "│ X8ZR6yFdg1Q ┆ 2024-06-17T14:12:45Z ┆ AI Explained in 60 Seconds   ┆ here's AI explained in 60    │\n",
      "│             ┆                      ┆ #ai                          ┆ seco…                        │\n",
      "│ sxvyBxLVvKs ┆ 2024-06-13T23:44:59Z ┆ The #1 Skill That Holds      ┆ let's talk about technical   │\n",
      "│             ┆                      ┆ (Most)…                      ┆ com…                         │\n",
      "│ XQWhJsXu0sY ┆ 2024-06-07T18:32:43Z ┆ What Nature Can Teach Us     ┆ if you want to build a great │\n",
      "│             ┆                      ┆ About…                       ┆ b…                           │\n",
      "│ wJ794jLP2Tw ┆ 2024-05-30T15:41:30Z ┆ Automating Data Pipelines    ┆ this is the sixth video in   │\n",
      "│             ┆                      ┆ with…                        ┆ the…                         │\n",
      "│ pJ_nCklQ65w ┆ 2024-05-18T15:24:22Z ┆ How to Deploy ML Solutions   ┆ this is the fifth video in a │\n",
      "│             ┆                      ┆ wit…                         ┆ l…                           │\n",
      "└─────────────┴──────────────────────┴──────────────────────────────┴──────────────────────────────┘\n"
     ]
    }
   ],
   "execution_count": 43
  },
  {
   "metadata": {
    "ExecuteTime": {
     "end_time": "2024-06-19T17:58:27.859820Z",
     "start_time": "2024-06-19T17:58:27.852195Z"
    }
   },
   "cell_type": "code",
   "source": [
    "# shape + unique values\n",
    "print(\"shape:\", df.shape)\n",
    "print(\"n unique rows:\", df.n_unique())\n",
    "for j in range(df.shape[1]):\n",
    "    print(\"n unique elements (\" + df.columns[j] + \"):\", df[:,j].n_unique())\n",
    "\n",
    "### output\n",
    "# shape: (84, 4)\n",
    "# n unique rows: 84\n",
    "# n unique elements (video_id): 84\n",
    "# n unique elements (datetime): 84\n",
    "# n unique elements (title): 84\n",
    "# n unique elements (transcript): 82"
   ],
   "id": "d39805c681b4d1aa",
   "outputs": [
    {
     "name": "stdout",
     "output_type": "stream",
     "text": [
      "shape: (91, 4)\n",
      "n unique rows: 91\n",
      "n unique elements (video_id): 91\n",
      "n unique elements (datetime): 91\n",
      "n unique elements (title): 91\n",
      "n unique elements (transcript): 89\n"
     ]
    }
   ],
   "execution_count": 44
  },
  {
   "metadata": {
    "ExecuteTime": {
     "end_time": "2024-06-19T17:58:43.590889Z",
     "start_time": "2024-06-19T17:58:43.587403Z"
    }
   },
   "cell_type": "code",
   "source": [
    "# change datetime to Datetime dtype\n",
    "df = df.with_columns(pl.col('datetime').cast(pl.Datetime))\n",
    "print(df.head())"
   ],
   "id": "fe8bfdcb121f752f",
   "outputs": [
    {
     "name": "stdout",
     "output_type": "stream",
     "text": [
      "shape: (5, 4)\n",
      "┌─────────────┬─────────────────────┬───────────────────────────────┬──────────────────────────────┐\n",
      "│ video_id    ┆ datetime            ┆ title                         ┆ transcript                   │\n",
      "│ ---         ┆ ---                 ┆ ---                           ┆ ---                          │\n",
      "│ str         ┆ datetime[μs]        ┆ str                           ┆ str                          │\n",
      "╞═════════════╪═════════════════════╪═══════════════════════════════╪══════════════════════════════╡\n",
      "│ X8ZR6yFdg1Q ┆ 2024-06-17 14:12:45 ┆ AI Explained in 60 Seconds    ┆ here's AI explained in 60    │\n",
      "│             ┆                     ┆ #ai                           ┆ seco…                        │\n",
      "│ sxvyBxLVvKs ┆ 2024-06-13 23:44:59 ┆ The #1 Skill That Holds       ┆ let's talk about technical   │\n",
      "│             ┆                     ┆ (Most)…                       ┆ com…                         │\n",
      "│ XQWhJsXu0sY ┆ 2024-06-07 18:32:43 ┆ What Nature Can Teach Us      ┆ if you want to build a great │\n",
      "│             ┆                     ┆ About…                        ┆ b…                           │\n",
      "│ wJ794jLP2Tw ┆ 2024-05-30 15:41:30 ┆ Automating Data Pipelines     ┆ this is the sixth video in   │\n",
      "│             ┆                     ┆ with…                         ┆ the…                         │\n",
      "│ pJ_nCklQ65w ┆ 2024-05-18 15:24:22 ┆ How to Deploy ML Solutions    ┆ this is the fifth video in a │\n",
      "│             ┆                     ┆ wit…                          ┆ l…                           │\n",
      "└─────────────┴─────────────────────┴───────────────────────────────┴──────────────────────────────┘\n"
     ]
    }
   ],
   "execution_count": 45
  },
  {
   "metadata": {
    "ExecuteTime": {
     "end_time": "2024-06-19T17:59:03.380734Z",
     "start_time": "2024-06-19T17:59:03.373110Z"
    }
   },
   "cell_type": "code",
   "source": [
    "# list all special strings and their replacements\n",
    "special_strings = ['&#39;', '&amp;', 'sha ']\n",
    "special_string_replacements = [\"'\", \"&\", \"Shaw \"]\n",
    "\n",
    "# replace each special string appearing in title and transcript columns\n",
    "for i in range(len(special_strings)):\n",
    "    df = df.with_columns(df['title'].str.replace(special_strings[i],\n",
    "                                                 special_string_replacements[i]).alias('title'))\n",
    "    df = df.with_columns(df['transcript'].str.replace(special_strings[i],\n",
    "                                                      special_string_replacements[i]).alias('transcript'))"
   ],
   "id": "6555fbe8a1f43f1a",
   "outputs": [],
   "execution_count": 46
  },
  {
   "metadata": {
    "ExecuteTime": {
     "end_time": "2024-06-19T17:59:14.107649Z",
     "start_time": "2024-06-19T17:59:14.092882Z"
    }
   },
   "cell_type": "code",
   "source": [
    "# write data to file\n",
    "df.write_parquet('data/video-transcripts.parquet')"
   ],
   "id": "470dca4beb840cc5",
   "outputs": [],
   "execution_count": 47
  },
  {
   "metadata": {},
   "cell_type": "code",
   "outputs": [],
   "execution_count": null,
   "source": "",
   "id": "b16d2bb9fe9fcf2d"
  }
 ],
 "metadata": {
  "kernelspec": {
   "display_name": "Python 3",
   "language": "python",
   "name": "python3"
  },
  "language_info": {
   "codemirror_mode": {
    "name": "ipython",
    "version": 2
   },
   "file_extension": ".py",
   "mimetype": "text/x-python",
   "name": "python",
   "nbconvert_exporter": "python",
   "pygments_lexer": "ipython2",
   "version": "2.7.6"
  }
 },
 "nbformat": 4,
 "nbformat_minor": 5
}
